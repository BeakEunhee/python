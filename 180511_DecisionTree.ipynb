{
 "cells": [
  {
   "cell_type": "code",
   "execution_count": 1,
   "metadata": {
    "collapsed": true
   },
   "outputs": [],
   "source": [
    "from sklearn.tree import DecisionTreeClassifier\n",
    "from sklearn.model_selection import train_test_split\n",
    "from sklearn.datasets import load_breast_cancer"
   ]
  },
  {
   "cell_type": "code",
   "execution_count": 2,
   "metadata": {
    "collapsed": true
   },
   "outputs": [],
   "source": [
    "def testTreeModel(TestSize, depth, leaf, split):\n",
    "    cancer = load_breast_cancer()\n",
    "    X_train, X_test, y_train, y_test = train_test_split(cancer.data\n",
    "                                                    , cancer.target\n",
    "                                                    , stratify = cancer.target\n",
    "                                                    , test_size = TestSize\n",
    "                                                    , random_state = 77)\n",
    "\n",
    "    tree = DecisionTreeClassifier(random_state = 0\n",
    "                                  , max_depth = depth\n",
    "                                  , min_samples_leaf = leaf\n",
    "                                  , min_samples_split = split)\n",
    "    tree.fit(X_train, y_train)\n",
    "    print(\"훈련 세트 정확도 : {:.3f}\".format(tree.score(X_train, y_train)))\n",
    "    print(\"테스트 세트 정확도 : {:.3f}\".format(tree.score(X_test, y_test)))"
   ]
  },
  {
   "cell_type": "code",
   "execution_count": 4,
   "metadata": {},
   "outputs": [
    {
     "name": "stdout",
     "output_type": "stream",
     "text": [
      "test_size :: %f\n",
      "훈련 세트 정확도 : 0.953\n",
      "테스트 세트 정확도 : 0.877\n",
      "test_size :: %f\n",
      "훈련 세트 정확도 : 0.956\n",
      "테스트 세트 정확도 : 0.886\n",
      "test_size :: %f\n",
      "훈련 세트 정확도 : 0.972\n",
      "테스트 세트 정확도 : 0.912\n",
      "test_size :: %f\n",
      "훈련 세트 정확도 : 0.971\n",
      "테스트 세트 정확도 : 0.917\n",
      "test_size :: %f\n",
      "훈련 세트 정확도 : 0.968\n",
      "테스트 세트 정확도 : 0.919\n",
      "test_size :: %f\n",
      "훈련 세트 정확도 : 0.974\n",
      "테스트 세트 정확도 : 0.912\n",
      "test_size :: %f\n",
      "훈련 세트 정확도 : 0.982\n",
      "테스트 세트 정확도 : 0.892\n",
      "test_size :: %f\n",
      "훈련 세트 정확도 : 1.000\n",
      "테스트 세트 정확도 : 0.895\n"
     ]
    }
   ],
   "source": [
    "for i in range(1, 9):\n",
    "    val = (i / 10) \n",
    "    print(\"test_size :: %f\".format(val))\n",
    "    testTreeModel(val, 2, 1, 4)"
   ]
  },
  {
   "cell_type": "code",
   "execution_count": null,
   "metadata": {
    "collapsed": true
   },
   "outputs": [],
   "source": []
  }
 ],
 "metadata": {
  "kernelspec": {
   "display_name": "Python 3",
   "language": "python",
   "name": "python3"
  },
  "language_info": {
   "codemirror_mode": {
    "name": "ipython",
    "version": 3
   },
   "file_extension": ".py",
   "mimetype": "text/x-python",
   "name": "python",
   "nbconvert_exporter": "python",
   "pygments_lexer": "ipython3",
   "version": "3.6.3"
  }
 },
 "nbformat": 4,
 "nbformat_minor": 2
}
